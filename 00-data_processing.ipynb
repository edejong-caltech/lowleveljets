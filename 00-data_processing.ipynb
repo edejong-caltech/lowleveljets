{
 "cells": [
  {
   "cell_type": "code",
   "execution_count": 1,
   "metadata": {},
   "outputs": [],
   "source": [
    "import xarray as xr\n",
    "import numpy as np\n",
    "import pandas as pd\n",
    "import datetime\n",
    "import findLLJ\n",
    "import matplotlib.pyplot as plt"
   ]
  },
  {
   "attachments": {},
   "cell_type": "markdown",
   "metadata": {},
   "source": [
    "Additional processing of the surface analysis archive is done separately in the python script and notebook present in the folder `surface_analysis`."
   ]
  },
  {
   "attachments": {},
   "cell_type": "markdown",
   "metadata": {},
   "source": [
    "# NYSERDA Data\n",
    "Downloaded from https://oswbuoysny.resourcepanorama.dnv.com/. CSV files are NOT included in this repository and should be downloaded and saved by the user."
   ]
  },
  {
   "cell_type": "code",
   "execution_count": 2,
   "metadata": {},
   "outputs": [
    {
     "name": "stderr",
     "output_type": "stream",
     "text": [
      "/var/folders/_6/ychcj4sn5k7cygz_qf48c5680000gn/T/ipykernel_25198/3876541260.py:9: DtypeWarning: Columns (1,2,3,4,5,6,7,8,9,10,12,13,14,15,16,17,18,19,20,22,23,24,25,26,27,28,29,30,32,33,34,35,36,37,38,39,40,42,43,44,45,46,47,48,49,50,52,53,54,55,56,57,58,59,60,62,63,64,65,66,67,68,69,70,72,73,74,75,76,77,78,79,80,82,83,84,85,86,87,88,89,90,92,93,94,95,96,97,98,99,100,101,102,103,104,105,106,107,108,109,110,111,112,113,114,115,116,117,118) have mixed types. Specify dtype option on import or set low_memory=False.\n",
      "  lidar = pd.read_csv('/Users/emilydejong/OneDrive - California Institute of Technology/2023NREL/NYSERDA_data/E06_Hudson_South_10_min_avg_20190904_20220327.csv')\n"
     ]
    }
   ],
   "source": [
    "# Replace with appropriate data paths\n",
    "\n",
    "Buoy = \"E06\"\n",
    "\n",
    "if Buoy == \"E05\":\n",
    "    lidar = pd.read_csv('/Users/emilydejong/OneDrive - California Institute of Technology/2023NREL/NYSERDA_data/E05_Hudson_North_10_min_avg_20190812_20210919.csv')\n",
    "    hourly = pd.read_csv('/Users/emilydejong/OneDrive - California Institute of Technology/2023NREL/NYSERDA_data/E05_Hudson_North_hourly_avg_20190812_20210919.csv')\n",
    "elif Buoy == \"E06\":\n",
    "    lidar = pd.read_csv('/Users/emilydejong/OneDrive - California Institute of Technology/2023NREL/NYSERDA_data/E06_Hudson_South_10_min_avg_20190904_20220327.csv')\n",
    "    hourly = pd.read_csv('/Users/emilydejong/OneDrive - California Institute of Technology/2023NREL/NYSERDA_data/E06_Hudson_South_hourly_avg_20190904_20220327.csv')"
   ]
  },
  {
   "cell_type": "code",
   "execution_count": 3,
   "metadata": {},
   "outputs": [],
   "source": [
    "lidar = lidar[0:-5]"
   ]
  },
  {
   "attachments": {},
   "cell_type": "markdown",
   "metadata": {},
   "source": [
    "### Create netcdf file with raw lidar information"
   ]
  },
  {
   "cell_type": "code",
   "execution_count": null,
   "metadata": {},
   "outputs": [],
   "source": [
    "waterT = pd.DataFrame(pd.to_numeric(hourly[' ADCP_ADCPtemp'], errors='coerce'))\n",
    "waterT['Datetime'] = pd.to_datetime(hourly['timestamp'], errors='coerce')\n",
    "waterT = waterT.set_index('Datetime')\n",
    "upsampledT = waterT.resample('10min')\n",
    "interpolatedT = upsampledT.interpolate(method='linear')"
   ]
  },
  {
   "cell_type": "code",
   "execution_count": null,
   "metadata": {},
   "outputs": [],
   "source": [
    "lidar['Datetime'] = pd.to_datetime(lidar['timestamp'], errors='coerce')\n",
    "lidar = lidar.set_index('Datetime')"
   ]
  },
  {
   "cell_type": "code",
   "execution_count": null,
   "metadata": {},
   "outputs": [],
   "source": [
    "lidarWaterT = interpolatedT.loc[lidar.index]"
   ]
  },
  {
   "cell_type": "code",
   "execution_count": null,
   "metadata": {},
   "outputs": [],
   "source": [
    "alts = ['18m','38m','58m','78m','98m','118m','138m','158m','178m','198m']\n",
    "lidar_ws_keys = [] #['timestamp']\n",
    "lidar_wd_keys = [] #['timestamp']\n",
    "for alt in alts:\n",
    "    lidar_ws_keys.append(' lidar_lidar'+alt+'_Z10_HorizWS')\n",
    "    lidar_wd_keys.append(' lidar_lidar'+alt+'_WD_alg_03')"
   ]
  },
  {
   "cell_type": "code",
   "execution_count": null,
   "metadata": {},
   "outputs": [],
   "source": [
    "windspeeds=np.asarray(lidar[lidar_ws_keys], dtype='float64')\n",
    "winddirections=np.asarray(lidar[lidar_wd_keys], dtype='float64')\n",
    "datetimes=np.asarray(pd.to_datetime(lidar['timestamp']))\n",
    "heights = [18, 38, 58, 78, 98, 118, 138, 158, 178, 198]"
   ]
  },
  {
   "cell_type": "code",
   "execution_count": null,
   "metadata": {},
   "outputs": [],
   "source": [
    "ta=np.asarray(lidar[\" meteo_Ta_avg\"], dtype=\"float64\")\n",
    "pa=np.asarray(lidar[\" meteo_Pa_avg\"], dtype=\"float64\")\n",
    "rh=np.asarray(lidar[\" meteo_Ua_avg\"], dtype=\"float64\")\n",
    "waterT=np.asarray(lidarWaterT[\" ADCP_ADCPtemp\"], dtype=\"float64\")"
   ]
  },
  {
   "cell_type": "code",
   "execution_count": null,
   "metadata": {},
   "outputs": [],
   "source": [
    "lidar_xr = xr.Dataset(\n",
    "    data_vars = dict(\n",
    "        windspeed=([\"t\",\"z\"], windspeeds),\n",
    "        winddirection=([\"t\",\"z\"], winddirections),\n",
    "        temp=([\"t\"], ta),\n",
    "        pressure=([\"t\"], pa),\n",
    "        rel_humidity=([\"t\"], rh),\n",
    "        waterT=([\"t\"], waterT)\n",
    "    ),\n",
    "    coords=dict(\n",
    "        datetime=([\"t\"], datetimes),\n",
    "        height=([\"z\"], heights)\n",
    "    )\n",
    ")"
   ]
  },
  {
   "cell_type": "code",
   "execution_count": null,
   "metadata": {},
   "outputs": [],
   "source": [
    "def u_v_from_WS_WD(WS, WD):\n",
    "    u = WS * np.cos((270 - WD)/180 * np.pi)\n",
    "    v = WS * np.sin((270 - WD)/180 * np.pi)\n",
    "    return (u, v)"
   ]
  },
  {
   "cell_type": "code",
   "execution_count": null,
   "metadata": {},
   "outputs": [],
   "source": [
    "(u, v) = u_v_from_WS_WD(lidar_xr['windspeed'], lidar_xr['winddirection'])\n",
    "lidar_xr['U'] = u\n",
    "lidar_xr['V'] = v"
   ]
  },
  {
   "cell_type": "code",
   "execution_count": null,
   "metadata": {},
   "outputs": [],
   "source": [
    "lidar_xr.to_netcdf('LiDAR/'+Buoy+'_lidar_full.nc')"
   ]
  },
  {
   "cell_type": "code",
   "execution_count": null,
   "metadata": {},
   "outputs": [],
   "source": [
    "if Buoy == 'E06':\n",
    "    springtime = lidar_xr.isel(t = slice(29896, 42419))\n",
    "elif Buoy == 'E05':\n",
    "    springtime = lidar_xr.isel(t = slice(33552, 46657))\n",
    "springtime"
   ]
  },
  {
   "cell_type": "code",
   "execution_count": null,
   "metadata": {},
   "outputs": [],
   "source": [
    "springtime.to_netcdf('LiDAR/springtime_'+Buoy+'.nc')"
   ]
  },
  {
   "cell_type": "code",
   "execution_count": null,
   "metadata": {},
   "outputs": [],
   "source": [
    "lidar_xr['winddirection'].min()"
   ]
  },
  {
   "attachments": {},
   "cell_type": "markdown",
   "metadata": {},
   "source": [
    "### QC & Jets"
   ]
  },
  {
   "cell_type": "code",
   "execution_count": null,
   "metadata": {},
   "outputs": [],
   "source": [
    "def is_data_pt_valid(WS, WD):\n",
    "    valid = True\n",
    "    if (WS < 0.0).any():\n",
    "        valid = False\n",
    "    elif (WS > 70.0).any():\n",
    "        valid = False\n",
    "    elif np.count_nonzero(np.isnan(WS)) > 7:\n",
    "        valid = False\n",
    "    return valid"
   ]
  },
  {
   "cell_type": "code",
   "execution_count": null,
   "metadata": {},
   "outputs": [],
   "source": [
    "validity = np.zeros_like(lidar_xr['temp'], dtype='bool')\n",
    "for i in range(len(validity)):\n",
    "    validity[i] = is_data_pt_valid(lidar_xr['windspeed'].isel(t=i), lidar_xr['winddirection'].isel(t=i))"
   ]
  },
  {
   "cell_type": "code",
   "execution_count": null,
   "metadata": {},
   "outputs": [],
   "source": [
    "jet_id = findLLJ.findLLJevents_xr_lidar(lidar_xr)"
   ]
  },
  {
   "cell_type": "code",
   "execution_count": null,
   "metadata": {},
   "outputs": [],
   "source": [
    "jet_id = jet_id.rename_dims({'Time': 't'})\n",
    "jet_id = jet_id.assign(dict(is_valid=([\"t\"], validity)))\n",
    "jet_id['datetime'] = lidar_xr['datetime']\n",
    "jet_id.to_netcdf('LiDAR/full_'+Buoy+'_LLJs.nc')"
   ]
  },
  {
   "cell_type": "code",
   "execution_count": null,
   "metadata": {},
   "outputs": [],
   "source": [
    "#jet_id = xr.load_dataset('LiDAR/full_'+Buoy+'_LLJs.nc')\n",
    "jet_id = jet_id.assign_coords(t=jet_id['datetime'])\n",
    "spring_jets = jet_id.sel(t=slice('2020-04-01', '2020-07-01'))\n",
    "spring_jets.to_netcdf('LiDAR/springtime_'+Buoy+'_LLJs_2020.nc')"
   ]
  },
  {
   "cell_type": "code",
   "execution_count": null,
   "metadata": {},
   "outputs": [],
   "source": [
    "Buoy = 'E06'\n",
    "jet_id = xr.load_dataset('LiDAR/full_'+Buoy+'_LLJs.nc')\n",
    "daily_jets = jet_id['is_valid'].rolling(t=24*6).sum()\n",
    "jet_id['is_valid'].sum() / len(jet_id['is_valid'])"
   ]
  },
  {
   "cell_type": "code",
   "execution_count": null,
   "metadata": {},
   "outputs": [],
   "source": [
    "plt.figure(figsize=(24,3))\n",
    "plt.plot(jet_id['datetime'], daily_jets)"
   ]
  },
  {
   "attachments": {},
   "cell_type": "markdown",
   "metadata": {},
   "source": [
    "# SGP Data\n",
    "Downloaded from https://www.arm.gov/capabilities/instruments/dl for SGP site C1, 2018-06-08 through 2018-06-20. NetCDF file is NOT included in repo."
   ]
  },
  {
   "cell_type": "code",
   "execution_count": null,
   "metadata": {},
   "outputs": [],
   "source": [
    "lidar = xr.open_dataset('LiDAR/SGP_lidar.nc')\n",
    "lidar"
   ]
  },
  {
   "cell_type": "code",
   "execution_count": null,
   "metadata": {},
   "outputs": [],
   "source": [
    "data = lidar.sel(site='C1').isel(height = slice(0, 24))\n",
    "data['windspeed'] = data['wind_speed']\n",
    "data['datetime'] = data['time']\n",
    "data = data.rename(dict({'height': 'z', 'time': 't'}))\n",
    "data['height'] = data['z']"
   ]
  },
  {
   "cell_type": "code",
   "execution_count": null,
   "metadata": {},
   "outputs": [],
   "source": [
    "jet_id = findLLJ.findLLJevents_xr_lidar(data)"
   ]
  },
  {
   "cell_type": "code",
   "execution_count": null,
   "metadata": {},
   "outputs": [],
   "source": [
    "jet_id.to_netcdf('LiDAR/SGP_jet_id.nc')"
   ]
  }
 ],
 "metadata": {
  "kernelspec": {
   "display_name": "edjPySDM",
   "language": "python",
   "name": "python3"
  },
  "language_info": {
   "codemirror_mode": {
    "name": "ipython",
    "version": 3
   },
   "file_extension": ".py",
   "mimetype": "text/x-python",
   "name": "python",
   "nbconvert_exporter": "python",
   "pygments_lexer": "ipython3",
   "version": "3.9.4"
  },
  "orig_nbformat": 4,
  "vscode": {
   "interpreter": {
    "hash": "b43cf254c70d60c2e21a7f71ba113e70c1694742e72407132919c841d907074b"
   }
  }
 },
 "nbformat": 4,
 "nbformat_minor": 2
}
