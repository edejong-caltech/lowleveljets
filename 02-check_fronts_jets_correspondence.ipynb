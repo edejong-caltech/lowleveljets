{
 "cells": [
  {
   "cell_type": "code",
   "execution_count": 303,
   "id": "c8325b2e-f2c5-49d5-9349-c0c038ec01ec",
   "metadata": {},
   "outputs": [],
   "source": [
    "import numpy as np\n",
    "import pandas as pd\n",
    "import xarray as xr\n",
    "import matplotlib.pyplot as plt\n",
    "from scipy.stats import binom_test"
   ]
  },
  {
   "cell_type": "code",
   "execution_count": 304,
   "id": "9729e68d-9fe9-4cee-8720-5e6353a3adee",
   "metadata": {},
   "outputs": [],
   "source": [
    "# centered full window sizes\n",
    "front_window = '7h' # ±3h, rolling interval is [-3,+4) h\n",
    "jet_window = '121min' # ±60min, rolling interval is [-1.0,+1.0) h"
   ]
  },
  {
   "attachments": {},
   "cell_type": "markdown",
   "id": "389f0d9d-f5e2-4544-a176-8d8bf5c29eef",
   "metadata": {},
   "source": [
    "## load jets"
   ]
  },
  {
   "cell_type": "code",
   "execution_count": 305,
   "id": "10ece98e",
   "metadata": {},
   "outputs": [],
   "source": [
    "# Sept 2019 -- Sept 2021\n",
    "jet_ids = xr.open_dataset('LiDAR/full_E06_LLJs.nc')\n",
    "#jet_ids = xr.open_dataset('LiDAR/full_E06_LLJs.nc')\n",
    "jet_ids = jet_ids.assign_coords(t=jet_ids['datetime'])\n",
    "\n",
    "# April - June 2020\n",
    "#jet_ids = jet_ids.sel(t=(slice('2020-04-01', '2020-07-01')))\n",
    "\n",
    "# April - June 2021\n",
    "#jet_ids = jet_ids.sel(t=(slice('2021-04-01', '2021-07-01')))\n",
    "\n",
    "# July 2020 - March 2021\n",
    "jet_ids = jet_ids.sel(t=(slice('2020-07-01', '2021-04-01')))"
   ]
  },
  {
   "attachments": {},
   "cell_type": "markdown",
   "id": "3c49b039",
   "metadata": {},
   "source": [
    "## load fronts"
   ]
  },
  {
   "cell_type": "code",
   "execution_count": 306,
   "id": "af17568a",
   "metadata": {},
   "outputs": [
    {
     "data": {
      "text/plain": [
       "2200"
      ]
     },
     "execution_count": 306,
     "metadata": {},
     "output_type": "execute_result"
    }
   ],
   "source": [
    "# fronts = pd.read_csv('other_data/sfc_analysis_fronts_tropicalstorms.csv',parse_dates=['datetime']) # 250km radius\n",
    "fronts = pd.read_csv('surface_analysis/sfc_analysis_fronts.csv') # 100km radius\n",
    "fronts['datetime'] = pd.to_datetime(fronts['datetime'])\n",
    "fronts = fronts.set_index('datetime')\n",
    "# fronts = fronts.drop(columns=['tropical_storm'])\n",
    "fronts = fronts.astype(int)\n",
    "\n",
    "# Spring 2020\n",
    "#fronts = fronts.loc[slice('2020-04-01','2020-07-01')]\n",
    "\n",
    "# Spring 2021\n",
    "#fronts = fronts.loc[slice('2021-04-01','2021-07-01')]\n",
    "\n",
    "# non spring\n",
    "fronts = fronts.loc[slice('2020-07-01','2021-04-01')]\n",
    "len(fronts)"
   ]
  },
  {
   "attachments": {},
   "cell_type": "markdown",
   "id": "a33eb485",
   "metadata": {},
   "source": [
    "## analyze jets"
   ]
  },
  {
   "cell_type": "code",
   "execution_count": 307,
   "id": "b3fe9b50-697d-4a65-b757-527eb020d80f",
   "metadata": {},
   "outputs": [],
   "source": [
    "isjet = jet_ids.to_dataframe()['is_jet']\n",
    "jet_times = isjet.index"
   ]
  },
  {
   "cell_type": "code",
   "execution_count": 308,
   "id": "c34667ac-8826-4097-8f13-a947af33b0f8",
   "metadata": {},
   "outputs": [],
   "source": [
    "isjet_1h = isjet.rolling(jet_window,center=True).max()"
   ]
  },
  {
   "cell_type": "code",
   "execution_count": 309,
   "id": "99caa37a-3312-4282-bb3c-d9c938c74443",
   "metadata": {},
   "outputs": [],
   "source": [
    "# study_june = '2021-02'\n",
    "# fig,ax = plt.subplots(nrows=2,sharex=True)\n",
    "# isjet.loc[study_june].astype('int').plot(marker='.',ax=ax[0])\n",
    "# isjet_1h.loc[study_june].plot(ax=ax[1])\n",
    "# for axi in ax:\n",
    "#     axi.grid()\n",
    "#     lgd = axi.get_legend()\n",
    "#     if lgd is not None:\n",
    "#         lgd.remove()\n",
    "# ax[0].legend(loc='upper left',bbox_to_anchor=(1,1))"
   ]
  },
  {
   "cell_type": "code",
   "execution_count": 310,
   "id": "84cdd267-4801-4250-baec-5ef93a2ba994",
   "metadata": {},
   "outputs": [],
   "source": [
    "jet_interval_start = list(jet_times[isjet_1h.diff() == 1])\n",
    "jet_interval_end = list(jet_times[isjet_1h.diff() == -1])\n",
    "if isjet_1h.iloc[0] == 1:\n",
    "    jet_interval_start = [jet_times[0]] + jet_interval_start\n",
    "if isjet_1h.iloc[-1] == 1:\n",
    "    jet_interval_end = jet_interval_end + [jet_times[-1]]\n",
    "\n",
    "assert len(jet_interval_start) == len(jet_interval_end)\n",
    "assert np.all(np.array(jet_interval_end) - np.array(jet_interval_start) > pd.Timedelta('1h'))\n",
    "\n",
    "all_jet_periods = [pd.Interval(left,right) for left,right in zip(jet_interval_start,jet_interval_end)]\n",
    "intidx = pd.IntervalIndex(all_jet_periods,closed='left')\n",
    "\n",
    "jets = pd.DataFrame(isjet_1h)\n",
    "jets['event'] = None\n",
    "jets['duration'] = np.nan\n",
    "deltaT = jet_times[1] - jet_times[0]\n",
    "for idx in intidx:\n",
    "    selected = (jet_times >= idx.left) & (jet_times < idx.right)\n",
    "    jets.loc[selected,'event'] = idx\n",
    "    jets.loc[selected,'duration'] = len(isjet_1h.loc[selected])*deltaT"
   ]
  },
  {
   "cell_type": "code",
   "execution_count": 311,
   "id": "b1dc0f3a-c310-49fc-9216-a6646f386570",
   "metadata": {},
   "outputs": [],
   "source": [
    "jet_periods = jets[['duration']].groupby(jets['event']).max()\n",
    "jet_duration = jet_periods['duration'].apply(lambda td: td.total_seconds()) / 3600."
   ]
  },
  {
   "cell_type": "code",
   "execution_count": 312,
   "id": "5b3f1054-d069-4c22-88b1-a5afe779c52b",
   "metadata": {},
   "outputs": [
    {
     "data": {
      "text/plain": [
       "(2.1666666666666665, 9.833333333333334)"
      ]
     },
     "execution_count": 312,
     "metadata": {},
     "output_type": "execute_result"
    }
   ],
   "source": [
    "jet_duration.min(), jet_duration.max()"
   ]
  },
  {
   "cell_type": "code",
   "execution_count": 313,
   "id": "4945d459-3709-47b7-b548-a73c9313707d",
   "metadata": {},
   "outputs": [
    {
     "data": {
      "text/plain": [
       "Series([], Name: duration, dtype: float64)"
      ]
     },
     "execution_count": 313,
     "metadata": {},
     "output_type": "execute_result"
    }
   ],
   "source": [
    "Nlong = np.count_nonzero(jet_duration > 11)\n",
    "jet_duration.loc[jet_duration>11]"
   ]
  },
  {
   "cell_type": "code",
   "execution_count": 314,
   "id": "26f12e76-0517-4bf0-a906-1a62b644b0e6",
   "metadata": {},
   "outputs": [
    {
     "data": {
      "text/plain": [
       "Text(0.5, 0, 'Duration [h]')"
      ]
     },
     "execution_count": 314,
     "metadata": {},
     "output_type": "execute_result"
    },
    {
     "data": {
      "image/png": "[encoded data removed]",
      "text/plain": [
       "<Figure size 640x480 with 1 Axes>"
      ]
     },
     "metadata": {},
     "output_type": "display_data"
    }
   ],
   "source": [
    "fig,ax = plt.subplots()\n",
    "counts,edges,bars = ax.hist(jet_duration,bins=np.arange(1,12))\n",
    "ax.set_xticks(edges)\n",
    "ax.grid()\n",
    "ax.set_title(f'Identified Jet Events (N={len(jet_duration)}, {Nlong} longer events not shown)')\n",
    "ax.set_xlabel('Duration [h]')"
   ]
  },
  {
   "attachments": {},
   "cell_type": "markdown",
   "id": "dea45441-84df-40b9-aba4-616830291bb1",
   "metadata": {},
   "source": [
    "## analyze fronts"
   ]
  },
  {
   "cell_type": "code",
   "execution_count": 315,
   "id": "4a738a40-2d71-4e11-8f5a-98ccd965189f",
   "metadata": {},
   "outputs": [],
   "source": [
    "sfc_analysis_times = fronts.index\n",
    "deltaT = sfc_analysis_times[1] - sfc_analysis_times[0]"
   ]
  },
  {
   "cell_type": "code",
   "execution_count": 316,
   "id": "84ebae1f-3077-4c03-bcfa-d547fcabee18",
   "metadata": {},
   "outputs": [
    {
     "data": {
      "text/plain": [
       "209"
      ]
     },
     "execution_count": 316,
     "metadata": {},
     "output_type": "execute_result"
    }
   ],
   "source": [
    "np.count_nonzero(fronts.any(axis=1))"
   ]
  },
  {
   "cell_type": "code",
   "execution_count": 317,
   "id": "02b6f848-f0fd-4074-bdc3-7eaad759b88a",
   "metadata": {},
   "outputs": [],
   "source": [
    "expanded_fronts = fronts.rolling(front_window,center=True).max()\n",
    "any_weather = expanded_fronts.any(axis=1).astype(int) # aggregate overlapping events"
   ]
  },
  {
   "cell_type": "code",
   "execution_count": 318,
   "id": "f889df1c-8c4c-46c5-83e9-f32a44c89d04",
   "metadata": {},
   "outputs": [],
   "source": [
    "# fig,ax = plt.subplots(nrows=3,sharex=True)\n",
    "# fronts.loc[study_june].plot(marker='.',ax=ax[0])\n",
    "# expanded_fronts.loc[study_june].plot(ax=ax[1])\n",
    "# any_weather.loc[study_june].plot(ax=ax[2],color='k')\n",
    "# for axi in ax:\n",
    "#     axi.grid()\n",
    "#     lgd = axi.get_legend()\n",
    "#     if lgd is not None:\n",
    "#         lgd.remove()\n",
    "# ax[0].legend(loc='upper left',bbox_to_anchor=(1,1))"
   ]
  },
  {
   "cell_type": "code",
   "execution_count": 319,
   "id": "a99b6172-dcc0-4b0f-b87b-26b1bdec5935",
   "metadata": {},
   "outputs": [],
   "source": [
    "weather_interval_start = list(sfc_analysis_times[any_weather.diff() == 1])\n",
    "weather_interval_end = list(sfc_analysis_times[any_weather.diff() == -1])\n",
    "if any_weather.iloc[0] == 1:\n",
    "    weather_interval_start = [sfc_analysis_times[0]] + weather_interval_start\n",
    "if any_weather.iloc[-1] == 1:\n",
    "    weather_interval_end = weather_interval_end + [sfc_analysis_times[-1]]\n",
    "\n",
    "assert len(weather_interval_start) == len(weather_interval_end)\n",
    "assert np.all(np.array(weather_interval_end) - np.array(weather_interval_start) > pd.Timedelta('1h'))\n",
    "\n",
    "all_weather_periods = [pd.Interval(left,right) for left,right in zip(weather_interval_start,weather_interval_end)]\n",
    "intidx = pd.IntervalIndex(all_weather_periods,closed='left')\n",
    "\n",
    "expanded_fronts['event'] = None\n",
    "expanded_fronts['duration'] = np.nan\n",
    "for idx in intidx:\n",
    "    selected = (sfc_analysis_times >= idx.left) & (sfc_analysis_times < idx.right)\n",
    "    expanded_fronts.loc[selected,'event'] = idx\n",
    "    expanded_fronts.loc[selected,'duration'] = len(expanded_fronts.loc[selected])*deltaT"
   ]
  },
  {
   "cell_type": "code",
   "execution_count": 320,
   "id": "4e65240a-d9ed-4cb2-a480-e979ef94bf5e",
   "metadata": {},
   "outputs": [
    {
     "data": {
      "text/html": [
       "<div>\n",
       "<style scoped>\n",
       "    .dataframe tbody tr th:only-of-type {\n",
       "        vertical-align: middle;\n",
       "    }\n",
       "\n",
       "    .dataframe tbody tr th {\n",
       "        vertical-align: top;\n",
       "    }\n",
       "\n",
       "    .dataframe thead th {\n",
       "        text-align: right;\n",
       "    }\n",
       "</style>\n",
       "<table border=\"1\" class=\"dataframe\">\n",
       "  <thead>\n",
       "    <tr style=\"text-align: right;\">\n",
       "      <th></th>\n",
       "      <th>warm</th>\n",
       "      <th>cold</th>\n",
       "      <th>occluded</th>\n",
       "      <th>duration</th>\n",
       "    </tr>\n",
       "    <tr>\n",
       "      <th>event</th>\n",
       "      <th></th>\n",
       "      <th></th>\n",
       "      <th></th>\n",
       "      <th></th>\n",
       "    </tr>\n",
       "  </thead>\n",
       "  <tbody>\n",
       "    <tr>\n",
       "      <th>[2020-07-03 21:00:00, 2020-07-04 09:00:00)</th>\n",
       "      <td>1.0</td>\n",
       "      <td>1.0</td>\n",
       "      <td>0.0</td>\n",
       "      <td>0 days 12:00:00</td>\n",
       "    </tr>\n",
       "    <tr>\n",
       "      <th>[2020-07-05 18:00:00, 2020-07-06 06:00:00)</th>\n",
       "      <td>1.0</td>\n",
       "      <td>1.0</td>\n",
       "      <td>0.0</td>\n",
       "      <td>0 days 12:00:00</td>\n",
       "    </tr>\n",
       "    <tr>\n",
       "      <th>[2020-07-06 12:00:00, 2020-07-06 21:00:00)</th>\n",
       "      <td>0.0</td>\n",
       "      <td>1.0</td>\n",
       "      <td>0.0</td>\n",
       "      <td>0 days 09:00:00</td>\n",
       "    </tr>\n",
       "    <tr>\n",
       "      <th>[2020-07-07, 2020-07-07 09:00:00)</th>\n",
       "      <td>0.0</td>\n",
       "      <td>1.0</td>\n",
       "      <td>0.0</td>\n",
       "      <td>0 days 09:00:00</td>\n",
       "    </tr>\n",
       "    <tr>\n",
       "      <th>[2020-07-07 18:00:00, 2020-07-08 12:00:00)</th>\n",
       "      <td>1.0</td>\n",
       "      <td>0.0</td>\n",
       "      <td>0.0</td>\n",
       "      <td>0 days 18:00:00</td>\n",
       "    </tr>\n",
       "    <tr>\n",
       "      <th>...</th>\n",
       "      <td>...</td>\n",
       "      <td>...</td>\n",
       "      <td>...</td>\n",
       "      <td>...</td>\n",
       "    </tr>\n",
       "    <tr>\n",
       "      <th>[2021-03-14 18:00:00, 2021-03-15 03:00:00)</th>\n",
       "      <td>0.0</td>\n",
       "      <td>1.0</td>\n",
       "      <td>0.0</td>\n",
       "      <td>0 days 09:00:00</td>\n",
       "    </tr>\n",
       "    <tr>\n",
       "      <th>[2021-03-18 15:00:00, 2021-03-19 06:00:00)</th>\n",
       "      <td>1.0</td>\n",
       "      <td>1.0</td>\n",
       "      <td>0.0</td>\n",
       "      <td>0 days 15:00:00</td>\n",
       "    </tr>\n",
       "    <tr>\n",
       "      <th>[2021-03-26 18:00:00, 2021-03-27 03:00:00)</th>\n",
       "      <td>0.0</td>\n",
       "      <td>1.0</td>\n",
       "      <td>0.0</td>\n",
       "      <td>0 days 09:00:00</td>\n",
       "    </tr>\n",
       "    <tr>\n",
       "      <th>[2021-03-28 12:00:00, 2021-03-29 09:00:00)</th>\n",
       "      <td>1.0</td>\n",
       "      <td>1.0</td>\n",
       "      <td>0.0</td>\n",
       "      <td>0 days 21:00:00</td>\n",
       "    </tr>\n",
       "    <tr>\n",
       "      <th>[2021-04-01 03:00:00, 2021-04-01 12:00:00)</th>\n",
       "      <td>1.0</td>\n",
       "      <td>1.0</td>\n",
       "      <td>0.0</td>\n",
       "      <td>0 days 09:00:00</td>\n",
       "    </tr>\n",
       "  </tbody>\n",
       "</table>\n",
       "<p>78 rows × 4 columns</p>\n",
       "</div>"
      ],
      "text/plain": [
       "                                            warm  cold  occluded  \\\n",
       "event                                                              \n",
       "[2020-07-03 21:00:00, 2020-07-04 09:00:00)   1.0   1.0       0.0   \n",
       "[2020-07-05 18:00:00, 2020-07-06 06:00:00)   1.0   1.0       0.0   \n",
       "[2020-07-06 12:00:00, 2020-07-06 21:00:00)   0.0   1.0       0.0   \n",
       "[2020-07-07, 2020-07-07 09:00:00)            0.0   1.0       0.0   \n",
       "[2020-07-07 18:00:00, 2020-07-08 12:00:00)   1.0   0.0       0.0   \n",
       "...                                          ...   ...       ...   \n",
       "[2021-03-14 18:00:00, 2021-03-15 03:00:00)   0.0   1.0       0.0   \n",
       "[2021-03-18 15:00:00, 2021-03-19 06:00:00)   1.0   1.0       0.0   \n",
       "[2021-03-26 18:00:00, 2021-03-27 03:00:00)   0.0   1.0       0.0   \n",
       "[2021-03-28 12:00:00, 2021-03-29 09:00:00)   1.0   1.0       0.0   \n",
       "[2021-04-01 03:00:00, 2021-04-01 12:00:00)   1.0   1.0       0.0   \n",
       "\n",
       "                                                   duration  \n",
       "event                                                        \n",
       "[2020-07-03 21:00:00, 2020-07-04 09:00:00)  0 days 12:00:00  \n",
       "[2020-07-05 18:00:00, 2020-07-06 06:00:00)  0 days 12:00:00  \n",
       "[2020-07-06 12:00:00, 2020-07-06 21:00:00)  0 days 09:00:00  \n",
       "[2020-07-07, 2020-07-07 09:00:00)           0 days 09:00:00  \n",
       "[2020-07-07 18:00:00, 2020-07-08 12:00:00)  0 days 18:00:00  \n",
       "...                                                     ...  \n",
       "[2021-03-14 18:00:00, 2021-03-15 03:00:00)  0 days 09:00:00  \n",
       "[2021-03-18 15:00:00, 2021-03-19 06:00:00)  0 days 15:00:00  \n",
       "[2021-03-26 18:00:00, 2021-03-27 03:00:00)  0 days 09:00:00  \n",
       "[2021-03-28 12:00:00, 2021-03-29 09:00:00)  0 days 21:00:00  \n",
       "[2021-04-01 03:00:00, 2021-04-01 12:00:00)  0 days 09:00:00  \n",
       "\n",
       "[78 rows x 4 columns]"
      ]
     },
     "execution_count": 320,
     "metadata": {},
     "output_type": "execute_result"
    }
   ],
   "source": [
    "front_periods = expanded_fronts.groupby(expanded_fronts['event']).max()\n",
    "front_duration = front_periods['duration'].apply(lambda td: td.total_seconds()) / 3600.\n",
    "front_periods"
   ]
  },
  {
   "cell_type": "code",
   "execution_count": 321,
   "id": "7f7fbb86-40fc-4644-9a71-4827c54b93f8",
   "metadata": {},
   "outputs": [
    {
     "data": {
      "text/plain": [
       "Text(0.5, 0, 'Duration [h]')"
      ]
     },
     "execution_count": 321,
     "metadata": {},
     "output_type": "execute_result"
    },
    {
     "data": {
      "image/png": "[encoded data removed]",
      "text/plain": [
       "<Figure size 640x480 with 1 Axes>"
      ]
     },
     "metadata": {},
     "output_type": "display_data"
    }
   ],
   "source": [
    "fig,ax = plt.subplots()\n",
    "counts,edges,bars = ax.hist(front_duration,bins=np.arange(0,169,24))\n",
    "ax.set_xticks(edges)\n",
    "ax.grid()\n",
    "ax.set_title(f'Identified Frontal Events (N={len(front_duration)})')\n",
    "ax.set_xlabel('Duration [h]')"
   ]
  },
  {
   "attachments": {},
   "cell_type": "markdown",
   "id": "1de278c6-8790-4f03-85ff-33fce17b75d8",
   "metadata": {},
   "source": [
    "## check correspondence"
   ]
  },
  {
   "cell_type": "code",
   "execution_count": 322,
   "id": "f26ac397-5a23-4a80-885b-910a84041770",
   "metadata": {},
   "outputs": [],
   "source": [
    "def check_overlap(row):\n",
    "    jet = row.name\n",
    "    for front,details in front_periods.iterrows():\n",
    "        # details is pd.Series with front type/duration\n",
    "        if jet.overlaps(front):\n",
    "            return True\n",
    "    return False"
   ]
  },
  {
   "cell_type": "code",
   "execution_count": 323,
   "id": "d74f636d-8d3e-4bab-9665-9062b5edc0e4",
   "metadata": {},
   "outputs": [],
   "source": [
    "jet_periods['near_front'] = jet_periods.apply(check_overlap,axis=1)"
   ]
  },
  {
   "cell_type": "code",
   "execution_count": 324,
   "id": "520e83e2-2ada-4a15-a40e-e33c07af0c21",
   "metadata": {},
   "outputs": [
    {
     "data": {
      "text/plain": [
       "Text(0.5, 1.0, 'ASSOCIATED WITH FRONT (window=7h)')"
      ]
     },
     "execution_count": 324,
     "metadata": {},
     "output_type": "execute_result"
    },
    {
     "data": {
      "image/png": "[encoded data removed]",
      "text/plain": [
       "<Figure size 640x480 with 1 Axes>"
      ]
     },
     "metadata": {},
     "output_type": "display_data"
    }
   ],
   "source": [
    "jet_duration_with_front = jet_periods.loc[jet_periods['near_front'],'duration'].apply(lambda td: td.total_seconds()) / 3600.\n",
    "plt.hist(jet_duration_with_front)\n",
    "plt.title(f'ASSOCIATED WITH FRONT (window={front_window})')"
   ]
  },
  {
   "cell_type": "code",
   "execution_count": 325,
   "id": "b4680a9d",
   "metadata": {},
   "outputs": [
    {
     "data": {
      "text/html": [
       "<div>\n",
       "<style scoped>\n",
       "    .dataframe tbody tr th:only-of-type {\n",
       "        vertical-align: middle;\n",
       "    }\n",
       "\n",
       "    .dataframe tbody tr th {\n",
       "        vertical-align: top;\n",
       "    }\n",
       "\n",
       "    .dataframe thead th {\n",
       "        text-align: right;\n",
       "    }\n",
       "</style>\n",
       "<table border=\"1\" class=\"dataframe\">\n",
       "  <thead>\n",
       "    <tr style=\"text-align: right;\">\n",
       "      <th></th>\n",
       "      <th>duration</th>\n",
       "      <th>near_front</th>\n",
       "    </tr>\n",
       "    <tr>\n",
       "      <th>event</th>\n",
       "      <th></th>\n",
       "      <th></th>\n",
       "    </tr>\n",
       "  </thead>\n",
       "  <tbody>\n",
       "    <tr>\n",
       "      <th>[2020-07-03 00:50:00, 2020-07-03 03:30:00)</th>\n",
       "      <td>0 days 02:40:00</td>\n",
       "      <td>False</td>\n",
       "    </tr>\n",
       "    <tr>\n",
       "      <th>[2020-07-03 04:50:00, 2020-07-03 13:00:00)</th>\n",
       "      <td>0 days 08:10:00</td>\n",
       "      <td>False</td>\n",
       "    </tr>\n",
       "    <tr>\n",
       "      <th>[2020-07-03 19:50:00, 2020-07-03 22:40:00)</th>\n",
       "      <td>0 days 02:50:00</td>\n",
       "      <td>True</td>\n",
       "    </tr>\n",
       "    <tr>\n",
       "      <th>[2020-07-06 14:10:00, 2020-07-06 21:40:00)</th>\n",
       "      <td>0 days 07:30:00</td>\n",
       "      <td>True</td>\n",
       "    </tr>\n",
       "    <tr>\n",
       "      <th>[2020-07-07 09:20:00, 2020-07-07 11:30:00)</th>\n",
       "      <td>0 days 02:10:00</td>\n",
       "      <td>False</td>\n",
       "    </tr>\n",
       "    <tr>\n",
       "      <th>[2020-07-11 15:40:00, 2020-07-11 18:10:00)</th>\n",
       "      <td>0 days 02:30:00</td>\n",
       "      <td>False</td>\n",
       "    </tr>\n",
       "    <tr>\n",
       "      <th>[2020-07-12 00:50:00, 2020-07-12 04:10:00)</th>\n",
       "      <td>0 days 03:20:00</td>\n",
       "      <td>True</td>\n",
       "    </tr>\n",
       "    <tr>\n",
       "      <th>[2020-07-12 21:50:00, 2020-07-13 00:20:00)</th>\n",
       "      <td>0 days 02:30:00</td>\n",
       "      <td>True</td>\n",
       "    </tr>\n",
       "    <tr>\n",
       "      <th>[2020-07-13 20:50:00, 2020-07-14 05:20:00)</th>\n",
       "      <td>0 days 08:30:00</td>\n",
       "      <td>True</td>\n",
       "    </tr>\n",
       "    <tr>\n",
       "      <th>[2020-07-15 00:50:00, 2020-07-15 07:10:00)</th>\n",
       "      <td>0 days 06:20:00</td>\n",
       "      <td>True</td>\n",
       "    </tr>\n",
       "    <tr>\n",
       "      <th>[2020-07-18 04:50:00, 2020-07-18 07:10:00)</th>\n",
       "      <td>0 days 02:20:00</td>\n",
       "      <td>True</td>\n",
       "    </tr>\n",
       "    <tr>\n",
       "      <th>[2020-07-18 09:40:00, 2020-07-18 13:50:00)</th>\n",
       "      <td>0 days 04:10:00</td>\n",
       "      <td>True</td>\n",
       "    </tr>\n",
       "    <tr>\n",
       "      <th>[2020-07-20 15:00:00, 2020-07-20 18:20:00)</th>\n",
       "      <td>0 days 03:20:00</td>\n",
       "      <td>False</td>\n",
       "    </tr>\n",
       "    <tr>\n",
       "      <th>[2020-07-21 01:00:00, 2020-07-21 04:20:00)</th>\n",
       "      <td>0 days 03:20:00</td>\n",
       "      <td>True</td>\n",
       "    </tr>\n",
       "    <tr>\n",
       "      <th>[2020-07-21 20:00:00, 2020-07-22 02:50:00)</th>\n",
       "      <td>0 days 06:50:00</td>\n",
       "      <td>True</td>\n",
       "    </tr>\n",
       "    <tr>\n",
       "      <th>[2020-07-22 11:20:00, 2020-07-22 13:30:00)</th>\n",
       "      <td>0 days 02:10:00</td>\n",
       "      <td>True</td>\n",
       "    </tr>\n",
       "    <tr>\n",
       "      <th>[2020-07-24 17:00:00, 2020-07-24 19:10:00)</th>\n",
       "      <td>0 days 02:10:00</td>\n",
       "      <td>True</td>\n",
       "    </tr>\n",
       "    <tr>\n",
       "      <th>[2020-07-27 15:20:00, 2020-07-27 17:40:00)</th>\n",
       "      <td>0 days 02:20:00</td>\n",
       "      <td>False</td>\n",
       "    </tr>\n",
       "    <tr>\n",
       "      <th>[2020-08-05 07:00:00, 2020-08-05 12:40:00)</th>\n",
       "      <td>0 days 05:40:00</td>\n",
       "      <td>True</td>\n",
       "    </tr>\n",
       "    <tr>\n",
       "      <th>[2020-08-06 02:20:00, 2020-08-06 04:40:00)</th>\n",
       "      <td>0 days 02:20:00</td>\n",
       "      <td>True</td>\n",
       "    </tr>\n",
       "    <tr>\n",
       "      <th>[2020-08-06 06:10:00, 2020-08-06 09:50:00)</th>\n",
       "      <td>0 days 03:40:00</td>\n",
       "      <td>True</td>\n",
       "    </tr>\n",
       "    <tr>\n",
       "      <th>[2020-08-10 15:00:00, 2020-08-10 18:50:00)</th>\n",
       "      <td>0 days 03:50:00</td>\n",
       "      <td>False</td>\n",
       "    </tr>\n",
       "    <tr>\n",
       "      <th>[2020-08-12 11:30:00, 2020-08-12 17:00:00)</th>\n",
       "      <td>0 days 05:30:00</td>\n",
       "      <td>False</td>\n",
       "    </tr>\n",
       "    <tr>\n",
       "      <th>[2020-08-25 19:30:00, 2020-08-25 21:50:00)</th>\n",
       "      <td>0 days 02:20:00</td>\n",
       "      <td>True</td>\n",
       "    </tr>\n",
       "    <tr>\n",
       "      <th>[2021-02-05 23:00:00, 2021-02-06 03:00:00)</th>\n",
       "      <td>0 days 04:00:00</td>\n",
       "      <td>False</td>\n",
       "    </tr>\n",
       "    <tr>\n",
       "      <th>[2021-02-28 02:30:00, 2021-02-28 11:50:00)</th>\n",
       "      <td>0 days 09:20:00</td>\n",
       "      <td>False</td>\n",
       "    </tr>\n",
       "    <tr>\n",
       "      <th>[2021-03-09 16:40:00, 2021-03-10 01:00:00)</th>\n",
       "      <td>0 days 08:20:00</td>\n",
       "      <td>True</td>\n",
       "    </tr>\n",
       "    <tr>\n",
       "      <th>[2021-03-12 12:40:00, 2021-03-12 18:20:00)</th>\n",
       "      <td>0 days 05:40:00</td>\n",
       "      <td>True</td>\n",
       "    </tr>\n",
       "    <tr>\n",
       "      <th>[2021-03-12 19:40:00, 2021-03-12 23:00:00)</th>\n",
       "      <td>0 days 03:20:00</td>\n",
       "      <td>True</td>\n",
       "    </tr>\n",
       "    <tr>\n",
       "      <th>[2021-03-18 00:40:00, 2021-03-18 04:10:00)</th>\n",
       "      <td>0 days 03:30:00</td>\n",
       "      <td>False</td>\n",
       "    </tr>\n",
       "    <tr>\n",
       "      <th>[2021-03-18 09:00:00, 2021-03-18 11:10:00)</th>\n",
       "      <td>0 days 02:10:00</td>\n",
       "      <td>False</td>\n",
       "    </tr>\n",
       "    <tr>\n",
       "      <th>[2021-03-18 14:50:00, 2021-03-18 17:20:00)</th>\n",
       "      <td>0 days 02:30:00</td>\n",
       "      <td>True</td>\n",
       "    </tr>\n",
       "    <tr>\n",
       "      <th>[2021-03-21 10:20:00, 2021-03-21 13:00:00)</th>\n",
       "      <td>0 days 02:40:00</td>\n",
       "      <td>False</td>\n",
       "    </tr>\n",
       "    <tr>\n",
       "      <th>[2021-03-23, 2021-03-23 03:10:00)</th>\n",
       "      <td>0 days 03:10:00</td>\n",
       "      <td>False</td>\n",
       "    </tr>\n",
       "    <tr>\n",
       "      <th>[2021-03-24 10:40:00, 2021-03-24 12:50:00)</th>\n",
       "      <td>0 days 02:10:00</td>\n",
       "      <td>False</td>\n",
       "    </tr>\n",
       "    <tr>\n",
       "      <th>[2021-03-27 15:30:00, 2021-03-28 01:20:00)</th>\n",
       "      <td>0 days 09:50:00</td>\n",
       "      <td>False</td>\n",
       "    </tr>\n",
       "    <tr>\n",
       "      <th>[2021-03-28 04:00:00, 2021-03-28 07:30:00)</th>\n",
       "      <td>0 days 03:30:00</td>\n",
       "      <td>False</td>\n",
       "    </tr>\n",
       "    <tr>\n",
       "      <th>[2021-03-28 11:00:00, 2021-03-28 14:10:00)</th>\n",
       "      <td>0 days 03:10:00</td>\n",
       "      <td>True</td>\n",
       "    </tr>\n",
       "    <tr>\n",
       "      <th>[2021-03-30 10:00:00, 2021-03-30 12:20:00)</th>\n",
       "      <td>0 days 02:20:00</td>\n",
       "      <td>False</td>\n",
       "    </tr>\n",
       "  </tbody>\n",
       "</table>\n",
       "</div>"
      ],
      "text/plain": [
       "                                                   duration  near_front\n",
       "event                                                                  \n",
       "[2020-07-03 00:50:00, 2020-07-03 03:30:00)  0 days 02:40:00       False\n",
       "[2020-07-03 04:50:00, 2020-07-03 13:00:00)  0 days 08:10:00       False\n",
       "[2020-07-03 19:50:00, 2020-07-03 22:40:00)  0 days 02:50:00        True\n",
       "[2020-07-06 14:10:00, 2020-07-06 21:40:00)  0 days 07:30:00        True\n",
       "[2020-07-07 09:20:00, 2020-07-07 11:30:00)  0 days 02:10:00       False\n",
       "[2020-07-11 15:40:00, 2020-07-11 18:10:00)  0 days 02:30:00       False\n",
       "[2020-07-12 00:50:00, 2020-07-12 04:10:00)  0 days 03:20:00        True\n",
       "[2020-07-12 21:50:00, 2020-07-13 00:20:00)  0 days 02:30:00        True\n",
       "[2020-07-13 20:50:00, 2020-07-14 05:20:00)  0 days 08:30:00        True\n",
       "[2020-07-15 00:50:00, 2020-07-15 07:10:00)  0 days 06:20:00        True\n",
       "[2020-07-18 04:50:00, 2020-07-18 07:10:00)  0 days 02:20:00        True\n",
       "[2020-07-18 09:40:00, 2020-07-18 13:50:00)  0 days 04:10:00        True\n",
       "[2020-07-20 15:00:00, 2020-07-20 18:20:00)  0 days 03:20:00       False\n",
       "[2020-07-21 01:00:00, 2020-07-21 04:20:00)  0 days 03:20:00        True\n",
       "[2020-07-21 20:00:00, 2020-07-22 02:50:00)  0 days 06:50:00        True\n",
       "[2020-07-22 11:20:00, 2020-07-22 13:30:00)  0 days 02:10:00        True\n",
       "[2020-07-24 17:00:00, 2020-07-24 19:10:00)  0 days 02:10:00        True\n",
       "[2020-07-27 15:20:00, 2020-07-27 17:40:00)  0 days 02:20:00       False\n",
       "[2020-08-05 07:00:00, 2020-08-05 12:40:00)  0 days 05:40:00        True\n",
       "[2020-08-06 02:20:00, 2020-08-06 04:40:00)  0 days 02:20:00        True\n",
       "[2020-08-06 06:10:00, 2020-08-06 09:50:00)  0 days 03:40:00        True\n",
       "[2020-08-10 15:00:00, 2020-08-10 18:50:00)  0 days 03:50:00       False\n",
       "[2020-08-12 11:30:00, 2020-08-12 17:00:00)  0 days 05:30:00       False\n",
       "[2020-08-25 19:30:00, 2020-08-25 21:50:00)  0 days 02:20:00        True\n",
       "[2021-02-05 23:00:00, 2021-02-06 03:00:00)  0 days 04:00:00       False\n",
       "[2021-02-28 02:30:00, 2021-02-28 11:50:00)  0 days 09:20:00       False\n",
       "[2021-03-09 16:40:00, 2021-03-10 01:00:00)  0 days 08:20:00        True\n",
       "[2021-03-12 12:40:00, 2021-03-12 18:20:00)  0 days 05:40:00        True\n",
       "[2021-03-12 19:40:00, 2021-03-12 23:00:00)  0 days 03:20:00        True\n",
       "[2021-03-18 00:40:00, 2021-03-18 04:10:00)  0 days 03:30:00       False\n",
       "[2021-03-18 09:00:00, 2021-03-18 11:10:00)  0 days 02:10:00       False\n",
       "[2021-03-18 14:50:00, 2021-03-18 17:20:00)  0 days 02:30:00        True\n",
       "[2021-03-21 10:20:00, 2021-03-21 13:00:00)  0 days 02:40:00       False\n",
       "[2021-03-23, 2021-03-23 03:10:00)           0 days 03:10:00       False\n",
       "[2021-03-24 10:40:00, 2021-03-24 12:50:00)  0 days 02:10:00       False\n",
       "[2021-03-27 15:30:00, 2021-03-28 01:20:00)  0 days 09:50:00       False\n",
       "[2021-03-28 04:00:00, 2021-03-28 07:30:00)  0 days 03:30:00       False\n",
       "[2021-03-28 11:00:00, 2021-03-28 14:10:00)  0 days 03:10:00        True\n",
       "[2021-03-30 10:00:00, 2021-03-30 12:20:00)  0 days 02:20:00       False"
      ]
     },
     "execution_count": 325,
     "metadata": {},
     "output_type": "execute_result"
    }
   ],
   "source": [
    "jet_periods"
   ]
  },
  {
   "cell_type": "code",
   "execution_count": 326,
   "id": "18fd1f98",
   "metadata": {},
   "outputs": [
    {
     "data": {
      "text/html": [
       "<div>\n",
       "<style scoped>\n",
       "    .dataframe tbody tr th:only-of-type {\n",
       "        vertical-align: middle;\n",
       "    }\n",
       "\n",
       "    .dataframe tbody tr th {\n",
       "        vertical-align: top;\n",
       "    }\n",
       "\n",
       "    .dataframe thead th {\n",
       "        text-align: right;\n",
       "    }\n",
       "</style>\n",
       "<table border=\"1\" class=\"dataframe\">\n",
       "  <thead>\n",
       "    <tr style=\"text-align: right;\">\n",
       "      <th></th>\n",
       "      <th>warm</th>\n",
       "      <th>cold</th>\n",
       "      <th>occluded</th>\n",
       "      <th>duration</th>\n",
       "    </tr>\n",
       "    <tr>\n",
       "      <th>event</th>\n",
       "      <th></th>\n",
       "      <th></th>\n",
       "      <th></th>\n",
       "      <th></th>\n",
       "    </tr>\n",
       "  </thead>\n",
       "  <tbody>\n",
       "    <tr>\n",
       "      <th>[2020-07-03 21:00:00, 2020-07-04 09:00:00)</th>\n",
       "      <td>1.0</td>\n",
       "      <td>1.0</td>\n",
       "      <td>0.0</td>\n",
       "      <td>0 days 12:00:00</td>\n",
       "    </tr>\n",
       "    <tr>\n",
       "      <th>[2020-07-05 18:00:00, 2020-07-06 06:00:00)</th>\n",
       "      <td>1.0</td>\n",
       "      <td>1.0</td>\n",
       "      <td>0.0</td>\n",
       "      <td>0 days 12:00:00</td>\n",
       "    </tr>\n",
       "    <tr>\n",
       "      <th>[2020-07-06 12:00:00, 2020-07-06 21:00:00)</th>\n",
       "      <td>0.0</td>\n",
       "      <td>1.0</td>\n",
       "      <td>0.0</td>\n",
       "      <td>0 days 09:00:00</td>\n",
       "    </tr>\n",
       "    <tr>\n",
       "      <th>[2020-07-07, 2020-07-07 09:00:00)</th>\n",
       "      <td>0.0</td>\n",
       "      <td>1.0</td>\n",
       "      <td>0.0</td>\n",
       "      <td>0 days 09:00:00</td>\n",
       "    </tr>\n",
       "    <tr>\n",
       "      <th>[2020-07-07 18:00:00, 2020-07-08 12:00:00)</th>\n",
       "      <td>1.0</td>\n",
       "      <td>0.0</td>\n",
       "      <td>0.0</td>\n",
       "      <td>0 days 18:00:00</td>\n",
       "    </tr>\n",
       "    <tr>\n",
       "      <th>...</th>\n",
       "      <td>...</td>\n",
       "      <td>...</td>\n",
       "      <td>...</td>\n",
       "      <td>...</td>\n",
       "    </tr>\n",
       "    <tr>\n",
       "      <th>[2021-03-14 18:00:00, 2021-03-15 03:00:00)</th>\n",
       "      <td>0.0</td>\n",
       "      <td>1.0</td>\n",
       "      <td>0.0</td>\n",
       "      <td>0 days 09:00:00</td>\n",
       "    </tr>\n",
       "    <tr>\n",
       "      <th>[2021-03-18 15:00:00, 2021-03-19 06:00:00)</th>\n",
       "      <td>1.0</td>\n",
       "      <td>1.0</td>\n",
       "      <td>0.0</td>\n",
       "      <td>0 days 15:00:00</td>\n",
       "    </tr>\n",
       "    <tr>\n",
       "      <th>[2021-03-26 18:00:00, 2021-03-27 03:00:00)</th>\n",
       "      <td>0.0</td>\n",
       "      <td>1.0</td>\n",
       "      <td>0.0</td>\n",
       "      <td>0 days 09:00:00</td>\n",
       "    </tr>\n",
       "    <tr>\n",
       "      <th>[2021-03-28 12:00:00, 2021-03-29 09:00:00)</th>\n",
       "      <td>1.0</td>\n",
       "      <td>1.0</td>\n",
       "      <td>0.0</td>\n",
       "      <td>0 days 21:00:00</td>\n",
       "    </tr>\n",
       "    <tr>\n",
       "      <th>[2021-04-01 03:00:00, 2021-04-01 12:00:00)</th>\n",
       "      <td>1.0</td>\n",
       "      <td>1.0</td>\n",
       "      <td>0.0</td>\n",
       "      <td>0 days 09:00:00</td>\n",
       "    </tr>\n",
       "  </tbody>\n",
       "</table>\n",
       "<p>78 rows × 4 columns</p>\n",
       "</div>"
      ],
      "text/plain": [
       "                                            warm  cold  occluded  \\\n",
       "event                                                              \n",
       "[2020-07-03 21:00:00, 2020-07-04 09:00:00)   1.0   1.0       0.0   \n",
       "[2020-07-05 18:00:00, 2020-07-06 06:00:00)   1.0   1.0       0.0   \n",
       "[2020-07-06 12:00:00, 2020-07-06 21:00:00)   0.0   1.0       0.0   \n",
       "[2020-07-07, 2020-07-07 09:00:00)            0.0   1.0       0.0   \n",
       "[2020-07-07 18:00:00, 2020-07-08 12:00:00)   1.0   0.0       0.0   \n",
       "...                                          ...   ...       ...   \n",
       "[2021-03-14 18:00:00, 2021-03-15 03:00:00)   0.0   1.0       0.0   \n",
       "[2021-03-18 15:00:00, 2021-03-19 06:00:00)   1.0   1.0       0.0   \n",
       "[2021-03-26 18:00:00, 2021-03-27 03:00:00)   0.0   1.0       0.0   \n",
       "[2021-03-28 12:00:00, 2021-03-29 09:00:00)   1.0   1.0       0.0   \n",
       "[2021-04-01 03:00:00, 2021-04-01 12:00:00)   1.0   1.0       0.0   \n",
       "\n",
       "                                                   duration  \n",
       "event                                                        \n",
       "[2020-07-03 21:00:00, 2020-07-04 09:00:00)  0 days 12:00:00  \n",
       "[2020-07-05 18:00:00, 2020-07-06 06:00:00)  0 days 12:00:00  \n",
       "[2020-07-06 12:00:00, 2020-07-06 21:00:00)  0 days 09:00:00  \n",
       "[2020-07-07, 2020-07-07 09:00:00)           0 days 09:00:00  \n",
       "[2020-07-07 18:00:00, 2020-07-08 12:00:00)  0 days 18:00:00  \n",
       "...                                                     ...  \n",
       "[2021-03-14 18:00:00, 2021-03-15 03:00:00)  0 days 09:00:00  \n",
       "[2021-03-18 15:00:00, 2021-03-19 06:00:00)  0 days 15:00:00  \n",
       "[2021-03-26 18:00:00, 2021-03-27 03:00:00)  0 days 09:00:00  \n",
       "[2021-03-28 12:00:00, 2021-03-29 09:00:00)  0 days 21:00:00  \n",
       "[2021-04-01 03:00:00, 2021-04-01 12:00:00)  0 days 09:00:00  \n",
       "\n",
       "[78 rows x 4 columns]"
      ]
     },
     "execution_count": 326,
     "metadata": {},
     "output_type": "execute_result"
    }
   ],
   "source": [
    "front_periods"
   ]
  },
  {
   "cell_type": "code",
   "execution_count": 327,
   "id": "4002849f-cdf0-4fb1-b48b-ecfda0982787",
   "metadata": {},
   "outputs": [
    {
     "data": {
      "text/plain": [
       "Text(0.5, 1.0, 'NO ASSOCIATED FRONTAL ACTIVITY')"
      ]
     },
     "execution_count": 327,
     "metadata": {},
     "output_type": "execute_result"
    },
    {
     "data": {
      "image/png": "[encoded data removed]",
      "text/plain": [
       "<Figure size 640x480 with 1 Axes>"
      ]
     },
     "metadata": {},
     "output_type": "display_data"
    }
   ],
   "source": [
    "jet_duration_no_front = jet_periods.loc[~jet_periods['near_front'],'duration'].apply(lambda td: td.total_seconds()) / 3600.\n",
    "plt.hist(jet_duration_no_front)\n",
    "plt.title('NO ASSOCIATED FRONTAL ACTIVITY')"
   ]
  },
  {
   "cell_type": "code",
   "execution_count": 328,
   "id": "3087e624-838a-4855-87f0-e963b5bf0a0c",
   "metadata": {},
   "outputs": [
    {
     "data": {
      "text/plain": [
       "<matplotlib.legend.Legend at 0x7fdd0ffa3310>"
      ]
     },
     "execution_count": 328,
     "metadata": {},
     "output_type": "execute_result"
    },
    {
     "data": {
      "image/png": "[encoded data removed]",
      "text/plain": [
       "<Figure size 640x480 with 1 Axes>"
      ]
     },
     "metadata": {},
     "output_type": "display_data"
    }
   ],
   "source": [
    "# does frontal activity affect jet duration?\n",
    "bins = np.arange(0,12,1)\n",
    "plt.hist(jet_duration_with_front,bins=bins,alpha=0.5,label='with front')\n",
    "plt.hist(jet_duration_no_front,bins=bins,alpha=0.5,label='no front')\n",
    "plt.legend()"
   ]
  },
  {
   "attachments": {},
   "cell_type": "markdown",
   "id": "c1836f8f",
   "metadata": {},
   "source": [
    "## stats"
   ]
  },
  {
   "cell_type": "code",
   "execution_count": 329,
   "id": "df4e92e6",
   "metadata": {},
   "outputs": [
    {
     "name": "stdout",
     "output_type": "stream",
     "text": [
      "P(jet) =  0.024571327558776737\n",
      "P(front) =  0.18326512050932242\n",
      "P(jet | front) =  0.07361455748552523\n",
      "p-value =  3.057295982527192e-19\n"
     ]
    }
   ],
   "source": [
    "front_frequency = front_duration.sum()*3600 / (fronts.index[-1]-fronts.index[0]).total_seconds()\n",
    "jet_frequency = jet_duration.sum()*3600 / ((jet_ids.t[-1]-jet_ids.t[0]).values/np.timedelta64(1,'s'))\n",
    "front_given_jet = jet_duration_with_front.sum() / jet_duration.sum()\n",
    "jet_given_front = jet_duration_with_front.sum() / front_duration.sum()\n",
    "\n",
    "N_null = len(jet_ids) # number of 10-minutely times\n",
    "N_front = front_duration.sum() # number of 10-minutely times\n",
    "N_jet_and_front = jet_duration_with_front.sum()\n",
    "p_jetfront = binom_test(N_jet_and_front, N_front, jet_frequency)\n",
    "\n",
    "print(\"P(jet) = \", jet_frequency)\n",
    "print(\"P(front) = \", front_frequency)\n",
    "print(\"P(jet | front) = \", jet_given_front)\n",
    "print(\"p-value = \", p_jetfront)\n"
   ]
  },
  {
   "attachments": {},
   "cell_type": "markdown",
   "id": "42659918",
   "metadata": {},
   "source": [
    "# Results:\n",
    "\n",
    "## E05\n",
    "*All data*\n",
    "P(jet) =  0.06859137399209914\n",
    "P(front) =  0.18134034165571616\n",
    "P(jet | front) =  0.12016908212560387\n",
    "p-value =  8.805678066798845e-27\n",
    "\n",
    "*spring 2020*\n",
    "P(jet) =  0.1491658488714426\n",
    "P(front) =  0.19727891156462585\n",
    "P(jet | front) =  0.24904214559386972\n",
    "p-value =  7.88882055172941e-08\n",
    "\n",
    "*spring 2021*\n",
    "P(jet) =  0.1841926473918623\n",
    "P(front) =  0.1510204081632653\n",
    "P(jet | front) =  0.23073073073073075\n",
    "p-value =  0.040424058911629424\n",
    "\n",
    "*non-spring*\n",
    "P(jet) =  0.040758605015278164\n",
    "P(front) =  0.18326512050932242\n",
    "P(jet | front) =  0.09484422387648195\n",
    "p-value =  4.431124383997811e-16\n",
    "\n",
    "## E06\n",
    "*All data*\n",
    "P(jet) =  0.040758605015278164\n",
    "P(front) =  0.18326512050932242\n",
    "P(jet | front) =  0.09484422387648195\n",
    "p-value =  4.431124383997811e-16\n",
    "\n",
    "*spring 2020*\n",
    "P(jet) =  0.1385974182833849\n",
    "P(front) =  0.19727891156462585\n",
    "P(jet | front) =  0.2551724137931034\n",
    "p-value =  2.465371050444352e-10\n",
    "\n",
    "*spring 2021*\n",
    "P(jet) =  0.2105382350720918\n",
    "P(front) =  0.1510204081632653\n",
    "P(jet | front) =  0.25325325325325326\n",
    "p-value =  0.06925329006608312\n",
    "\n",
    "*non-spring*\n",
    "P(jet) =  0.024571327558776737\n",
    "P(front) =  0.18326512050932242\n",
    "P(jet | front) =  0.07361455748552523\n",
    "p-value =  3.057295982527192e-19"
   ]
  },
  {
   "attachments": {},
   "cell_type": "markdown",
   "id": "857bbd54",
   "metadata": {},
   "source": [
    "## Old"
   ]
  },
  {
   "cell_type": "code",
   "execution_count": 330,
   "id": "475b05ac-18cb-4d9b-ac34-46ef441fcaec",
   "metadata": {},
   "outputs": [],
   "source": [
    "# how often do fronts occur\n",
    "\n",
    "# 250km radius:\n",
    "# ±3h: 0.4056389267849022 **\n",
    "# ±6h: 0.503777923784494\n",
    "\n",
    "# spring 2020: 0.4122448979591837\n",
    "# spring 2021: 0.35918367346938773\n",
    "# non spring: 0.4056389267849022\n",
    "\n",
    "# 100km radius:\n",
    "# overall ±3h: 0.18134034165571616\n",
    "# spring 2020: 0.19727891156462585\n",
    "# spring 2021: 0.1510204081632653\n",
    "# non spring: 0.18326512050932242"
   ]
  },
  {
   "cell_type": "code",
   "execution_count": 331,
   "id": "1357e022-a989-47ea-ba85-fd6fad38d66f",
   "metadata": {},
   "outputs": [],
   "source": [
    "# how often do jets occur\n",
    "\n",
    "# E06:\n",
    "# ±0.5h: 0.04992257488386233\n",
    "# ±1.0h: 0.056092240573387346\n",
    "# ±1.5h: 0.08074062111093167 **\n",
    "# ±3.0h: 0.1180376770565156\n",
    "\n",
    "# spring 2020: 0.1654714274930173\n",
    "# spring 2021: 0.25198158073526084\n",
    "# non spring: 0.024571327558776737 **\n",
    "\n",
    "\n",
    "# E05:\n",
    "# overall ±1.0h: 0.06859137399209914\n",
    "# spring 2020: 0.1491658488714426\n",
    "# spring 2021: 0.1841926473918623\n",
    "# non spring: 0.040758605015278164\n",
    "\n",
    "# E06:\n",
    "# overall ±1.0h: 0.056092240573387346\n",
    "# spring 2020: 0.1385974182833849\n",
    "# spring 2021: 0.2105382350720918\n",
    "# non spring: 0.024571327558776737"
   ]
  },
  {
   "cell_type": "code",
   "execution_count": 332,
   "id": "6ef2dee8-341a-457c-9120-91c74c0b9f3f",
   "metadata": {},
   "outputs": [
    {
     "data": {
      "text/plain": [
       "0.5488180883864338"
      ]
     },
     "execution_count": 332,
     "metadata": {},
     "output_type": "execute_result"
    }
   ],
   "source": [
    "# how often is there a front, given that there is a jet?\n",
    "jet_duration_with_front.sum() / jet_duration.sum()\n",
    "\n",
    "# 250km, E06\n",
    "# ±3h/±0.5h front/jet: 0.5394862036156042\n",
    "# ±6h/±0.5h front/jet: 0.5965746907706946\n",
    "# ±3h/±1.0h front/jet: 0.5277777777777778 **\n",
    "# ±3h/±1.5h front/jet: 0.584539357571479\n",
    "# ±3h/±3.0h front/jet: 0.6185915492957746\n",
    "\n",
    "# spring 2020: 0.573905109489051\n",
    "# spring 2021: 0.4601557819053325\n",
    "# non spring: 0.8705035971223022\n",
    "\n",
    "# 100km, E05\n",
    "# overall ±3h/±1.0h front/jet: 0.31400394477317556\n",
    "# spring 2020: 0.32894736842105265\n",
    "# spring 2021: 0.1889344262295082\n",
    "# non spring: 0.42627013630731103\n",
    "\n",
    "# 100km, E06\n",
    "# overall ±3h/±1.0h front/jet: 0.3003968253968254\n",
    "# spring 2020: 0.36274509803921573\n",
    "# spring 2021: 0.18142703477949085\n",
    "# non spring: 0.5488180883864338"
   ]
  },
  {
   "cell_type": "code",
   "execution_count": null,
   "id": "811c716a",
   "metadata": {},
   "outputs": [],
   "source": []
  }
 ],
 "metadata": {
  "kernelspec": {
   "display_name": "Python (edjPySDM)",
   "language": "python",
   "name": "myenv"
  },
  "language_info": {
   "codemirror_mode": {
    "name": "ipython",
    "version": 3
   },
   "file_extension": ".py",
   "mimetype": "text/x-python",
   "name": "python",
   "nbconvert_exporter": "python",
   "pygments_lexer": "ipython3",
   "version": "3.9.13"
  },
  "vscode": {
   "interpreter": {
    "hash": "b43cf254c70d60c2e21a7f71ba113e70c1694742e72407132919c841d907074b"
   }
  }
 },
 "nbformat": 4,
 "nbformat_minor": 5
}
